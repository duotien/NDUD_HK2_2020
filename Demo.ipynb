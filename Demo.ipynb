{
 "cells": [
  {
   "cell_type": "code",
   "execution_count": 51,
   "metadata": {},
   "outputs": [],
   "source": [
    "import subprocess\n",
    "from PIL import Image\n",
    "import os, sys\n",
    "import numpy as np\n",
    "import pandas as pd\n",
    "from math import sqrt, exp, pi\n",
    "from matplotlib import pyplot as plt"
   ]
  },
  {
   "cell_type": "markdown",
   "metadata": {},
   "source": [
    "# Resize datasets size to 100x100"
   ]
  },
  {
   "cell_type": "code",
   "execution_count": 2,
   "metadata": {},
   "outputs": [],
   "source": [
    "'''Cây thư mục cho dataset\n",
    "dataset\n",
    "    training_set\n",
    "        cats\n",
    "            cat.1.jpg\n",
    "            cat.2.jpg\n",
    "            ...\n",
    "        dogs\n",
    "    test_set\n",
    "        cats\n",
    "        dogs\n",
    "'''\n",
    "datasets = ['training_set/', 'test_set/']\n",
    "datasets_type = ['cats/', 'dogs/']\n",
    "list_path_output = ['training_cat', 'training_dog', 'test_cat', 'test_dog']\n",
    "#os.listdir('dataset/'+datasets[0]+datasets_type[1])"
   ]
  },
  {
   "cell_type": "code",
   "execution_count": 3,
   "metadata": {},
   "outputs": [],
   "source": [
    "def resize_image_dirs(path):\n",
    "    dirs = os.listdir(path)\n",
    "    for item in dirs:\n",
    "        if os.path.isfile(path+item):\n",
    "            im = Image.open(path+item)\n",
    "            f, e = os.path.splitext(path+item)\n",
    "            imResize = im.resize((100,100), Image.ANTIALIAS)\n",
    "            imResize.save(f+'.jpg', 'JPEG', quality=90)\n",
    "\n",
    "def export_list_paths(path, output_name):\n",
    "    dirs = os.listdir(path)\n",
    "    filehandle = open(output_name, 'w')\n",
    "    for item in dirs:\n",
    "        if os.path.isfile(path+item):\n",
    "            filehandle.write(path+item+'\\n')\n",
    "    filehandle.close()"
   ]
  },
  {
   "cell_type": "code",
   "execution_count": 4,
   "metadata": {},
   "outputs": [],
   "source": [
    "#resize_image_dirs('dataset/test_set/dogs/')\n",
    "\n",
    "# Vòng lặp này sẽ resize bộ ảnh về 100x100, jpg\n",
    "# for dataset in datasets:\n",
    "#     for datatype in datasets_type:\n",
    "#         path = 'dataset/'+dataset+datatype\n",
    "#         resize_image_dirs(path)"
   ]
  },
  {
   "cell_type": "markdown",
   "metadata": {},
   "source": [
    "## Trích xuất đặc trưng theo chuẩn MPEG7 sử dụng công cụ MPEG7Fex\n",
    "- Link download: www.cs.bilkent.edu.tr/~bilmdg/bilvideo-7/Software.html\n",
    "- Loại đặc trưng: Dominant Color"
   ]
  },
  {
   "cell_type": "markdown",
   "metadata": {},
   "source": [
    "### Tạo danh sách chứa tên đường dẫn các hình"
   ]
  },
  {
   "cell_type": "code",
   "execution_count": 5,
   "metadata": {},
   "outputs": [
    {
     "name": "stdout",
     "output_type": "stream",
     "text": [
      "['dataset/training_set/cats/', 'dataset/training_set/dogs/', 'dataset/test_set/cats/', 'dataset/test_set/dogs/']\n"
     ]
    }
   ],
   "source": [
    "list_path = []\n",
    "for dataset in datasets:\n",
    "    for datatype in datasets_type:\n",
    "        path = 'dataset/'+dataset+datatype\n",
    "        list_path.append(path)\n",
    "\n",
    "for index in range(len(list_path)):\n",
    "    export_list_paths(list_path[index], list_path_output[index]+'.txt')\n",
    "\n",
    "print(list_path)"
   ]
  },
  {
   "cell_type": "markdown",
   "metadata": {},
   "source": [
    "### Trích xuất đặc trưng DCD bằng MPEG7Fex\n",
    "Chỉ cần chạy 1 lần là đủ"
   ]
  },
  {
   "cell_type": "code",
   "execution_count": 6,
   "metadata": {},
   "outputs": [],
   "source": [
    "sf_path = 'MPEG7Fex.exe'\n",
    "descriptor = 'DCD'\n",
    "normalize_flag = '1'\n",
    "variance_flag = '0'\n",
    "spatial_flag = '1'"
   ]
  },
  {
   "cell_type": "code",
   "execution_count": 59,
   "metadata": {},
   "outputs": [],
   "source": [
    "def feature_extract_np(path, fex_output='testDCD.txt'):\n",
    "    #resize image to intended size\n",
    "    if os.path.isfile(path):\n",
    "        im = Image.open(path)\n",
    "        im = im.convert('RGB')\n",
    "        imResize = im.resize((100,100), Image.ANTIALIAS)\n",
    "        imResize.save('input.jpg', 'JPEG', quality=90)\n",
    "    \n",
    "    #make input_image.txt\n",
    "    f = open('input_image.txt','w')\n",
    "    f.write('input.jpg')\n",
    "    f.close()\n",
    "    \n",
    "    subprocess.call([sf_path,descriptor, normalize_flag, variance_flag, spatial_flag,'input_image.txt',fex_output])\n",
    "    \n",
    "    f = open(fex_output)\n",
    "    content = f.readlines()\n",
    "    f.close()\n",
    "    \n",
    "    content = [x.strip() for x in content] \n",
    "    content = [x[x.find(' ')+1:].replace(' ', ',') for x in content]\n",
    "    for index in range(len(content)):\n",
    "        tmp = [0]*34\n",
    "        tmp[0:len(content[index].split(','))] = [int(x) for x in content[index].split(',')]\n",
    "        content[index] = tmp\n",
    "    \n",
    "    del f\n",
    "    return np.array(content)[0]"
   ]
  },
  {
   "cell_type": "code",
   "execution_count": 37,
   "metadata": {},
   "outputs": [],
   "source": [
    "for index in range(len(list_path_output)):\n",
    "    input_file_list = list_path_output[index]+'.txt'\n",
    "    output_file_list = list_path_output[index]+'DCD.txt'\n",
    "    subprocess.call([sf_path,descriptor, normalize_flag, variance_flag, spatial_flag,input_file_list,output_file_list])"
   ]
  },
  {
   "cell_type": "markdown",
   "metadata": {},
   "source": [
    "### Xuất thông số theo csv"
   ]
  },
  {
   "cell_type": "code",
   "execution_count": 38,
   "metadata": {},
   "outputs": [],
   "source": [
    "def build_dataframe(path, output):\n",
    "    #read data from txt\n",
    "    with open(path) as f:\n",
    "        content = f.readlines()\n",
    "    f.close()\n",
    "    content = [x.strip() for x in content] \n",
    "    content = [x[x.find(' ')+1:].replace(' ', ',') for x in content]\n",
    "    for index in range(len(content)):\n",
    "        tmp = [0]*34\n",
    "        tmp[0:len(content[index].split(','))] = [int(x) for x in content[index].split(',')]\n",
    "        content[index] = tmp\n",
    "    \n",
    "    #write as csv\n",
    "    f = open(output,'w')\n",
    "    ## write headlines\n",
    "        # numberOfDominantColors spatialCoherency\n",
    "        # percentage_1\n",
    "        # centroid_1_channel1 centroid_1_channel2 centroid_1_channel3\n",
    "        # variance_1_channel1 variance_1_channel2 variance_1_channel3\n",
    "    \n",
    "    f.write('numberOfDominantColors,spatialCoherency,')\n",
    "    for index in range(8):\n",
    "        f.write('percent_{},centroid_{}_r,centroid_{}_g,centroid_{}_b,'.format(index,index,index,index))\n",
    "        #f.write('var_{}_r,var_{}_g,var_{}_b,'.format(index,index,index))\n",
    "    f.seek(f.tell() - 1, os.SEEK_SET)\n",
    "    f.truncate()\n",
    "    f.write('\\n')\n",
    "    \n",
    "    ## write values\n",
    "    for line in content:\n",
    "        for value in line:\n",
    "            f.write(str(value) + ',')\n",
    "        f.seek(f.tell() - 1, os.SEEK_SET)\n",
    "        f.truncate()\n",
    "        f.write('\\n')\n",
    "\n",
    "    f.close()\n",
    "    del f"
   ]
  },
  {
   "cell_type": "code",
   "execution_count": 39,
   "metadata": {},
   "outputs": [],
   "source": [
    "build_dataframe('training_catDCD.txt', 'dataframe_training_cat.csv')\n",
    "build_dataframe('training_dogDCD.txt', 'dataframe_training_dog.csv')\n",
    "build_dataframe('test_catDCD.txt', 'dataframe_test_cat.csv')\n",
    "build_dataframe('test_dogDCD.txt', 'dataframe_test_dog.csv')"
   ]
  },
  {
   "cell_type": "markdown",
   "metadata": {},
   "source": [
    "### Xử dụng pandas để load dữ liệu và tính toán"
   ]
  },
  {
   "cell_type": "code",
   "execution_count": 40,
   "metadata": {},
   "outputs": [],
   "source": [
    "def gaussian_pdf(x, mean, stdev):\n",
    "    exponent = exp(-((x-mean)**2 / (2 * stdev**2 )))\n",
    "    return (1 / (sqrt(2 * pi) * stdev)) * exponent\n",
    "\n",
    "def predict(test_y, cat_classifier, dog_classifier):\n",
    "    p_cat = cat_classifier[2]\n",
    "    p_dog = dog_classifier[2]\n",
    "    for index in range(len(test_y)):\n",
    "        p_cat *= gaussian_pdf(test_y[index],cat_classifier[0][index],cat_classifier[1][index])\n",
    "        p_dog *= gaussian_pdf(test_y[index],dog_classifier[0][index],dog_classifier[1][index])\n",
    "    \n",
    "    if p_cat > p_dog:\n",
    "        return 0\n",
    "    return 1"
   ]
  },
  {
   "cell_type": "code",
   "execution_count": 41,
   "metadata": {},
   "outputs": [],
   "source": [
    "label_y = ['cat', 'dog']\n",
    "samples = []\n",
    "df = pd.read_csv('dataframe_training_cat.csv')\n",
    "mean = df.mean().values\n",
    "stdev = df.std().values\n",
    "samples.append(df.shape[0])\n",
    "cat_classifier = [mean, stdev]"
   ]
  },
  {
   "cell_type": "code",
   "execution_count": 42,
   "metadata": {},
   "outputs": [],
   "source": [
    "df = pd.read_csv('dataframe_training_dog.csv')\n",
    "mean = df.mean().values\n",
    "stdev = df.std().values\n",
    "samples.append(df.shape[0])\n",
    "dog_classifier = [mean, stdev]"
   ]
  },
  {
   "cell_type": "code",
   "execution_count": 43,
   "metadata": {},
   "outputs": [],
   "source": [
    "cat_classifier.append(samples[0]/(samples[0]+samples[1]))\n",
    "dog_classifier.append(samples[1]/(samples[0]+samples[1]))"
   ]
  },
  {
   "cell_type": "markdown",
   "metadata": {},
   "source": [
    "### Đánh giá mô hình"
   ]
  },
  {
   "cell_type": "code",
   "execution_count": 44,
   "metadata": {},
   "outputs": [
    {
     "name": "stdout",
     "output_type": "stream",
     "text": [
      "0.745\n"
     ]
    }
   ],
   "source": [
    "#test_cat\n",
    "df = pd.read_csv('dataframe_test_cat.csv')\n",
    "result = []\n",
    "correct_prediction = 0\n",
    "for test in df.values:\n",
    "    result.append(predict(test,cat_classifier,dog_classifier))\n",
    "result = np.array(result)\n",
    "correct_prediction = len(result) - np.count_nonzero(result)\n",
    "print(correct_prediction/len(result))"
   ]
  },
  {
   "cell_type": "code",
   "execution_count": 45,
   "metadata": {},
   "outputs": [],
   "source": [
    "#test_dog\n",
    "df = pd.read_csv('dataframe_test_dog.csv')\n",
    "result = []\n",
    "for test in df.values:\n",
    "    result.append(predict(test,cat_classifier,dog_classifier))\n",
    "result = np.array(result)\n",
    "correct_prediction += np.count_nonzero(result)\n"
   ]
  },
  {
   "cell_type": "code",
   "execution_count": 46,
   "metadata": {},
   "outputs": [
    {
     "name": "stdout",
     "output_type": "stream",
     "text": [
      "1098\n",
      "0.549\n"
     ]
    }
   ],
   "source": [
    "print(correct_prediction)\n",
    "print(correct_prediction/2000)"
   ]
  },
  {
   "cell_type": "markdown",
   "metadata": {},
   "source": [
    "### Thử nghiệm"
   ]
  },
  {
   "cell_type": "code",
   "execution_count": 61,
   "metadata": {},
   "outputs": [
    {
     "name": "stdout",
     "output_type": "stream",
     "text": [
      "[ 7  9  2  4  4  3  3 11  7  5  5 30 30 30  2 17  9  3  6  8 10  9  8 19\n",
      " 15 12  2 18 19 19  0  0  0  0]\n"
     ]
    },
    {
     "data": {
      "text/plain": [
       "'dog'"
      ]
     },
     "execution_count": 61,
     "metadata": {},
     "output_type": "execute_result"
    },
    {
     "data": {
      "image/png": "[encoded data removed]",
      "text/plain": [
       "<Figure size 432x288 with 1 Axes>"
      ]
     },
     "metadata": {
      "needs_background": "light"
     },
     "output_type": "display_data"
    }
   ],
   "source": [
    "src = 'khoi.png'\n",
    "test_y = feature_extract_np(src)\n",
    "print(test_y)\n",
    "plt.imshow(plt.imread(src))\n",
    "label_y[predict(test_y,cat_classifier, dog_classifier)]"
   ]
  },
  {
   "cell_type": "code",
   "execution_count": null,
   "metadata": {},
   "outputs": [],
   "source": []
  }
 ],
 "metadata": {
  "kernelspec": {
   "display_name": "Python 3",
   "language": "python",
   "name": "python3"
  },
  "language_info": {
   "codemirror_mode": {
    "name": "ipython",
    "version": 3
   },
   "file_extension": ".py",
   "mimetype": "text/x-python",
   "name": "python",
   "nbconvert_exporter": "python",
   "pygments_lexer": "ipython3",
   "version": "3.7.7"
  }
 },
 "nbformat": 4,
 "nbformat_minor": 4
}
